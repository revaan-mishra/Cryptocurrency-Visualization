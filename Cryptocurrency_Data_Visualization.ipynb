{
  "nbformat": 4,
  "nbformat_minor": 0,
  "metadata": {
    "colab": {
      "name": "Cryptocurrency Data Visualization.ipynb",
      "provenance": [],
      "collapsed_sections": [],
      "authorship_tag": "ABX9TyOxF6TsIMbOc6aOmauLcVus",
      "include_colab_link": true
    },
    "kernelspec": {
      "name": "python3",
      "display_name": "Python 3"
    },
    "accelerator": "GPU"
  },
  "cells": [
    {
      "cell_type": "markdown",
      "metadata": {
        "id": "view-in-github",
        "colab_type": "text"
      },
      "source": [
        "<a href=\"https://colab.research.google.com/github/revaan-mishra/Cryptocurrency-Visualization/blob/main/Cryptocurrency_Data_Visualization.ipynb\" target=\"_parent\"><img src=\"https://colab.research.google.com/assets/colab-badge.svg\" alt=\"Open In Colab\"/></a>"
      ]
    },
    {
      "cell_type": "markdown",
      "metadata": {
        "id": "PKfMvhNlUuHP"
      },
      "source": [
        "#**Cryptocurrency Data Visualization using Plotly Express**"
      ]
    },
    {
      "cell_type": "markdown",
      "metadata": {
        "id": "qcS20QrMS3RB"
      },
      "source": [
        "#### Switch to GPU mode for faster Computation (Runtime> Change runtime> GPU)\r\n"
      ]
    },
    {
      "cell_type": "markdown",
      "metadata": {
        "id": "uRh7Bx5aTZyh"
      },
      "source": [
        "## Importing all the necessary libraries"
      ]
    },
    {
      "cell_type": "code",
      "metadata": {
        "id": "0l4D6HuVCkSf"
      },
      "source": [
        "import pandas as pd     \r\n"
      ],
      "execution_count": null,
      "outputs": []
    },
    {
      "cell_type": "code",
      "metadata": {
        "id": "BGNykpKgCtc2"
      },
      "source": [
        "import plotly.offline as py                       # create table\r\n",
        "import plotly.graph_objs as go                    #create candlestick charts  \r\n",
        "import plotly.express as px                       #create Violin plots, pie charts, box plot, scatter plots,line graph, area"
      ],
      "execution_count": null,
      "outputs": []
    },
    {
      "cell_type": "code",
      "metadata": {
        "id": "B0SdWNhPEOwW"
      },
      "source": [
        "import plotly.io as pio\r\n",
        "pio.renderers.default ='colab'                   #Initializing plotly"
      ],
      "execution_count": null,
      "outputs": []
    },
    {
      "cell_type": "markdown",
      "metadata": {
        "id": "-i7HMArcTuXa"
      },
      "source": [
        "## Importing and Analyzing the Dataset"
      ]
    },
    {
      "cell_type": "code",
      "metadata": {
        "id": "T2Ik-2iE5tqk"
      },
      "source": [
        "from google.colab import files\r\n",
        "files.upload()"
      ],
      "execution_count": null,
      "outputs": []
    },
    {
      "cell_type": "code",
      "metadata": {
        "id": "oI2VisY-I2BB"
      },
      "source": [
        "df = pd.read_csv(\"top_coins.csv\")\r\n"
      ],
      "execution_count": null,
      "outputs": []
    },
    {
      "cell_type": "code",
      "metadata": {
        "id": "wj78yrayJckw"
      },
      "source": [
        "# Print df\r\n",
        "df"
      ],
      "execution_count": null,
      "outputs": []
    },
    {
      "cell_type": "code",
      "metadata": {
        "id": "W70L7WSwI_sx"
      },
      "source": [
        "df.groupby([\"Currency\"]).count()"
      ],
      "execution_count": null,
      "outputs": []
    },
    {
      "cell_type": "code",
      "metadata": {
        "id": "lFddnStXI_p4"
      },
      "source": [
        "from plotly.figure_factory import create_table"
      ],
      "execution_count": null,
      "outputs": []
    },
    {
      "cell_type": "code",
      "metadata": {
        "id": "bivx8eelI_ni"
      },
      "source": [
        "table = create_table(df.head(10), colorscale = \"plasma\")"
      ],
      "execution_count": null,
      "outputs": []
    },
    {
      "cell_type": "code",
      "metadata": {
        "id": "dvLVe5GBI_mB"
      },
      "source": [
        "py.iplot(table)"
      ],
      "execution_count": null,
      "outputs": []
    },
    {
      "cell_type": "markdown",
      "metadata": {
        "id": "Qfl6OCT9UIgq"
      },
      "source": [
        "##Data Visualization using Violin plots, Pie chart and Box plot"
      ]
    },
    {
      "cell_type": "code",
      "metadata": {
        "id": "5zAUSRWZI_hT"
      },
      "source": [
        "px.violin(df, x = \"Currency\", y =  \"Volume\")"
      ],
      "execution_count": null,
      "outputs": []
    },
    {
      "cell_type": "code",
      "metadata": {
        "id": "VR6_mxNLI_eb"
      },
      "source": [
        "px.pie(df, names = \"Currency\", values = \"Volume\")"
      ],
      "execution_count": null,
      "outputs": []
    },
    {
      "cell_type": "code",
      "metadata": {
        "id": "WH4CJdEZI_QU"
      },
      "source": [
        "px.box(df,x = \"Currency\", y = \"Close\")"
      ],
      "execution_count": null,
      "outputs": []
    },
    {
      "cell_type": "code",
      "metadata": {
        "id": "UY8-Z7WtNNnb"
      },
      "source": [
        "px.box(df,x = \"Currency\", y = \"Close\", log_y = \"True\")"
      ],
      "execution_count": null,
      "outputs": []
    },
    {
      "cell_type": "markdown",
      "metadata": {
        "id": "-YTlEFGhURsP"
      },
      "source": [
        "## Data Visualization using Scatter plots\r\n"
      ]
    },
    {
      "cell_type": "code",
      "metadata": {
        "id": "V0_rBxYYMpEI"
      },
      "source": [
        "px.scatter(df, x = \"Close\", y = \"Volume\", color = \"Currency\", hover_data = ['High','Low','Date'], height= 400)"
      ],
      "execution_count": null,
      "outputs": []
    },
    {
      "cell_type": "code",
      "metadata": {
        "id": "zsbQAxAxMpHC"
      },
      "source": [
        "px.scatter(df, x = \"Close\", y = \"Volume\", color = \"Currency\", hover_data = ['High','Low','Date'], height= 400, log_x = \"T\", log_y = \"T\")"
      ],
      "execution_count": null,
      "outputs": []
    },
    {
      "cell_type": "markdown",
      "metadata": {
        "id": "gX9Jv2FYUab6"
      },
      "source": [
        "##Crypto specific Data Visualization- Analyzing Bitcoin using Line graph, Area graph and Candlestick charts"
      ]
    },
    {
      "cell_type": "code",
      "metadata": {
        "id": "FnKuRsNtMpJ3"
      },
      "source": [
        "from google.colab import files"
      ],
      "execution_count": null,
      "outputs": []
    },
    {
      "cell_type": "code",
      "metadata": {
        "id": "sZ3tfZUePdfk"
      },
      "source": [
        "files.upload()"
      ],
      "execution_count": null,
      "outputs": []
    },
    {
      "cell_type": "code",
      "metadata": {
        "id": "KhEghANXPdiT"
      },
      "source": [
        "df_bitcoin=pd.read_csv(\"bitcoin_data.csv\")"
      ],
      "execution_count": null,
      "outputs": []
    },
    {
      "cell_type": "code",
      "metadata": {
        "id": "9JTzG0jfPdkl"
      },
      "source": [
        "px.line(df_bitcoin, x = \"Date\", y = \"Close\")"
      ],
      "execution_count": null,
      "outputs": []
    },
    {
      "cell_type": "code",
      "metadata": {
        "id": "3-BkKGDgQJWm"
      },
      "source": [
        "px.area(df_bitcoin, x = \"Date\", y = \"Volume\")"
      ],
      "execution_count": null,
      "outputs": []
    },
    {
      "cell_type": "code",
      "metadata": {
        "id": "3JCZI4kGQJZd"
      },
      "source": [
        "fig = go.Figure(data = [go.Candlestick(x = df_bitcoin['Date'],\r\n",
        "                                       open = df_bitcoin['Open'],\r\n",
        "                                       high = df_bitcoin['High'],\r\n",
        "                                       low = df_bitcoin['Low'],\r\n",
        "                                       close = df_bitcoin['Close']\r\n",
        "                                       )]) "
      ],
      "execution_count": null,
      "outputs": []
    },
    {
      "cell_type": "code",
      "metadata": {
        "id": "5d1ygncXRsnL"
      },
      "source": [
        "fig.show()"
      ],
      "execution_count": null,
      "outputs": []
    }
  ]
}